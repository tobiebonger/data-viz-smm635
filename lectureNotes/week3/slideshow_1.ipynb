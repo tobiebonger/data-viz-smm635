{
 "cells": [
  {
   "cell_type": "code",
   "execution_count": null,
   "metadata": {},
   "outputs": [],
   "source": []
  },
  {
   "cell_type": "markdown",
   "metadata": {
    "slideshow": {
     "slide_type": "slide"
    }
   },
   "source": [
    "# Data visualization ― week 3\n",
    "\n",
    "<img src=\"images/job_titles.png\" alt=\"Drawing\" style=\"width: 800px;\"/>\n",
    "\n",
    "*Source:* NYT"
   ]
  },
  {
   "cell_type": "markdown",
   "metadata": {
    "slideshow": {
     "slide_type": "slide"
    }
   },
   "source": [
    "# Exploratory statistical charts ― agenda\n",
    "\n",
    "- frequencies\n",
    "- univariate distributions\n",
    "- bivariate distributions\n",
    "- multidimensional distributions"
   ]
  },
  {
   "cell_type": "markdown",
   "metadata": {
    "slideshow": {
     "slide_type": "slide"
    }
   },
   "source": [
    "# Exploratory statistical charts"
   ]
  },
  {
   "cell_type": "markdown",
   "metadata": {
    "slideshow": {
     "slide_type": "fragment"
    }
   },
   "source": [
    "* **when** do we use statistical charts?\n",
    "    - exploration: understanding the dataset at hand\n",
    "    - presentation: highlighting patterns of variables"
   ]
  },
  {
   "cell_type": "markdown",
   "metadata": {
    "slideshow": {
     "slide_type": "fragment"
    }
   },
   "source": [
    "* **who** are the 'consumers' of statistical charts?\n",
    "  - difficult to isolate one single type of consumer\n",
    "  - the gamut comprises any possible social category"
   ]
  },
  {
   "cell_type": "markdown",
   "metadata": {
    "slideshow": {
     "slide_type": "fragment"
    }
   },
   "source": [
    "* **what** are the most common forms of statistical charts?\n",
    "\n",
    "  - you don't fall short of alternatives..."
   ]
  },
  {
   "cell_type": "markdown",
   "metadata": {
    "slideshow": {
     "slide_type": "slide"
    }
   },
   "source": [
    "# Design principles for statistical charts"
   ]
  },
  {
   "cell_type": "markdown",
   "metadata": {
    "cell_style": "split",
    "slideshow": {
     "slide_type": "fragment"
    }
   },
   "source": [
    "<img src=\"images/tufte_book.jpg\" alt=\"Drawing\" style=\"width:500px;\"/>"
   ]
  },
  {
   "cell_type": "markdown",
   "metadata": {
    "cell_style": "split",
    "slideshow": {
     "slide_type": "fragment"
    }
   },
   "source": [
    "_\"The conditions under which many data graphics are produces―the lack of substantive and quantitative skills of the illustrators, dislike of quantitative evidence, and the contempt for the intelligence of the audience―guarantee graphic mediocrity.\"_\n",
    "\n",
    "_\"These conditions engender graphics that (1) lie; (2) employ only the simplest designs; (3) miss the real news actually in the data\"_\n",
    "\n",
    "\n",
    "Tufte (2001, page 87)"
   ]
  },
  {
   "cell_type": "markdown",
   "metadata": {
    "ExecuteTime": {
     "end_time": "2018-10-10T19:41:40.118861Z",
     "start_time": "2018-10-10T19:41:40.111943Z"
    },
    "slideshow": {
     "slide_type": "slide"
    }
   },
   "source": [
    "# Graphical excellence according to Tufte\n",
    "\n",
    "_\"Excellence in statistical graphics consists of complex ideas communicated with clarity, precision, and efficiency\"._\n",
    "\n",
    "Graphical displays should:\n",
    "\n",
    "* induce the viewer to think about the substance rather than about the methodology, graphic design [omitted] or something else\n",
    "* serve a reasonable clear purpose: description, exploration, tabulation or decoration\n",
    "* show the data\n",
    "* avoid distorting what the data have to say\n",
    "* reveal the data at several levels of detail, from a broad overview to the fine structure\n",
    "* be closely integrated with the statistical and verbal description of the dataset"
   ]
  },
  {
   "cell_type": "markdown",
   "metadata": {
    "slideshow": {
     "slide_type": "subslide"
    }
   },
   "source": [
    "# Show data variation, not design variation\n",
    "\n",
    "<img src=\"images/design_variation.png\" alt=\"Drawing\" style=\"width: 800px;\"/>\n",
    "\n",
    "*Source:* NSF, Science Indicators, 1974 (1976, page 15)"
   ]
  },
  {
   "cell_type": "markdown",
   "metadata": {
    "slideshow": {
     "slide_type": "subslide"
    }
   },
   "source": [
    "# Avoid distorting what the data have to say: Published chart\n",
    "\n",
    "<img src=\"images/nys_exp_0.png\" alt=\"Drawing\" style=\"width: 800px;\"/>\n",
    "\n",
    "*Source:* NYT (February 1, 1976)"
   ]
  },
  {
   "cell_type": "markdown",
   "metadata": {
    "slideshow": {
     "slide_type": "subslide"
    }
   },
   "source": [
    "# Avoid distorting what the data have to say: Spot not so clever tricks\n",
    "\n",
    "<img src=\"images/nys_exp_1.png\" alt=\"Drawing\" style=\"width: 800px;\"/>\n",
    "\n",
    "*Source:* NYT (February 1, 1976)"
   ]
  },
  {
   "cell_type": "markdown",
   "metadata": {
    "slideshow": {
     "slide_type": "subslide"
    }
   },
   "source": [
    "# Avoid distorting what the data have to say: For real\n",
    "\n",
    "<img src=\"images/nys_exp_2.png\" alt=\"Drawing\" style=\"width: 800px;\"/>\n",
    "\n",
    "*Source:* Tufte (2001)"
   ]
  },
  {
   "cell_type": "markdown",
   "metadata": {
    "heading_collapsed": true,
    "slideshow": {
     "slide_type": "subslide"
    }
   },
   "source": [
    "# Avoid distorting what the data have to say: The lie factor\n",
    "\n",
    "\\begin{equation}\n",
    "\\mbox{Lie factor} = \\frac{\\mbox{size of the effect shown in graphic}}{\\mbox{size of the effect in data}}\n",
    "\\end{equation}\n",
    "\n",
    "<img src=\"images/oil_price.png\" alt=\"Drawing\" style=\"width: 800px;\"/>"
   ]
  },
  {
   "cell_type": "markdown",
   "metadata": {
    "slideshow": {
     "slide_type": "subslide"
    }
   },
   "source": [
    "# Tufte's conclusions about n-dimensional charts\n",
    "\n",
    "\"The use of two (or three) varying dimensions to show one-dimensional data is a weak and inefficient technique, capable of handling very small datasets, often with error in design and ambiguity in perception.\"\n",
    "\n",
    "\"The number of information-carrying (variable) dimensions should not exceed the number of dimensions in the data\""
   ]
  },
  {
   "cell_type": "markdown",
   "metadata": {
    "slideshow": {
     "slide_type": "subslide"
    }
   },
   "source": [
    "# How to use n-dimensional charts consistently\n",
    "\n",
    "<img src=\"images/postal_saving_books.png\" alt=\"Drawing\" style=\"width: 800px;\"/>\n",
    "\n",
    "*Source:* Gabaglio (1888)"
   ]
  },
  {
   "cell_type": "markdown",
   "metadata": {
    "slideshow": {
     "slide_type": "subslide"
    }
   },
   "source": [
    "# Five principles to reveal the data"
   ]
  },
  {
   "cell_type": "markdown",
   "metadata": {
    "slideshow": {
     "slide_type": "fragment"
    }
   },
   "source": [
    "<center>Above all else show the data.</center>"
   ]
  },
  {
   "cell_type": "markdown",
   "metadata": {
    "slideshow": {
     "slide_type": "fragment"
    }
   },
   "source": [
    "<center>Maximise the data-ink ratio.</center>"
   ]
  },
  {
   "cell_type": "markdown",
   "metadata": {
    "slideshow": {
     "slide_type": "fragment"
    }
   },
   "source": [
    "<center>Erase non-data-ink.</center>"
   ]
  },
  {
   "cell_type": "markdown",
   "metadata": {
    "slideshow": {
     "slide_type": "fragment"
    }
   },
   "source": [
    "<center>Erase redundant-data-ink.</center>"
   ]
  },
  {
   "cell_type": "markdown",
   "metadata": {
    "slideshow": {
     "slide_type": "fragment"
    }
   },
   "source": [
    "<center>Revise and edit.</center>"
   ]
  },
  {
   "cell_type": "markdown",
   "metadata": {
    "slideshow": {
     "slide_type": "subslide"
    }
   },
   "source": [
    "# Maximize data-ink ratio: Redesigning the boxplot"
   ]
  },
  {
   "cell_type": "markdown",
   "metadata": {
    "cell_style": "split",
    "slideshow": {
     "slide_type": "fragment"
    }
   },
   "source": [
    "![](images/boxplot_0.png)"
   ]
  },
  {
   "cell_type": "markdown",
   "metadata": {
    "cell_style": "split",
    "slideshow": {
     "slide_type": "fragment"
    }
   },
   "source": [
    "![](images/boxplot_1.png)"
   ]
  },
  {
   "cell_type": "markdown",
   "metadata": {
    "slideshow": {
     "slide_type": "subslide"
    }
   },
   "source": [
    "# Maximize data-ink ratio: Redesigning the barchart"
   ]
  },
  {
   "cell_type": "markdown",
   "metadata": {
    "cell_style": "split",
    "slideshow": {
     "slide_type": "fragment"
    }
   },
   "source": [
    "![](images/barchart_0.png)"
   ]
  },
  {
   "cell_type": "markdown",
   "metadata": {
    "cell_style": "split",
    "slideshow": {
     "slide_type": "fragment"
    }
   },
   "source": [
    "![](images/barchart_1.png)"
   ]
  },
  {
   "cell_type": "markdown",
   "metadata": {
    "slideshow": {
     "slide_type": "subslide"
    }
   },
   "source": [
    "# Maximize data-ink ratio: Redesigning the scatter"
   ]
  },
  {
   "cell_type": "markdown",
   "metadata": {
    "cell_style": "split",
    "slideshow": {
     "slide_type": "fragment"
    }
   },
   "source": [
    "![](images/scatter_0.png)"
   ]
  },
  {
   "cell_type": "markdown",
   "metadata": {
    "cell_style": "split",
    "slideshow": {
     "slide_type": "fragment"
    }
   },
   "source": [
    "![](images/scatter_1.png)"
   ]
  },
  {
   "cell_type": "markdown",
   "metadata": {
    "slideshow": {
     "slide_type": "slide"
    }
   },
   "source": [
    "# Are Tufte-adjusted charts 'better'?"
   ]
  },
  {
   "cell_type": "markdown",
   "metadata": {
    "cell_style": "split",
    "slideshow": {
     "slide_type": "fragment"
    }
   },
   "source": [
    "<img src=\"images/is_tufte_style_better_0.png\" alt=\"Drawing\" style=\"width: 800px;\"/>"
   ]
  },
  {
   "cell_type": "markdown",
   "metadata": {
    "cell_style": "split"
   },
   "source": [
    "<img src=\"images/is_tufte_style_better_1.png\" alt=\"Drawing\" style=\"width: 800px;\"/>"
   ]
  },
  {
   "cell_type": "markdown",
   "metadata": {
    "slideshow": {
     "slide_type": "subslide"
    }
   },
   "source": [
    "# Looking for some sources of inspiration?"
   ]
  },
  {
   "cell_type": "markdown",
   "metadata": {
    "cell_style": "split",
    "slideshow": {
     "slide_type": "fragment"
    }
   },
   "source": [
    "![](images/journal_of_visualization.jpg)"
   ]
  },
  {
   "cell_type": "markdown",
   "metadata": {
    "cell_style": "split",
    "slideshow": {
     "slide_type": "fragment"
    }
   },
   "source": [
    "![](images/ieee.jpg)"
   ]
  },
  {
   "cell_type": "markdown",
   "metadata": {
    "slideshow": {
     "slide_type": "slide"
    }
   },
   "source": [
    "# Visualizing frequencies"
   ]
  },
  {
   "cell_type": "markdown",
   "metadata": {
    "cell_style": "split",
    "slideshow": {
     "slide_type": "fragment"
    }
   },
   "source": [
    "* candidate visual forms:\n",
    "    - bar chart\n",
    "    - pie/donut chart\n",
    "\n",
    "* premises:\n",
    "    - data should have grouping structure (e.g., reviews nested in products)\n",
    "    - the grouping structure should be meaningful\n",
    "\n",
    "* common mistakes:\n",
    "    - frequencies shouldn't be used when continuous variables (e.g., product price) are available\n",
    "    - in fact, many bar charts are based on ad-hoc, discretized variables (e.g., bins of price, such as £ 1 - 5)"
   ]
  },
  {
   "cell_type": "markdown",
   "metadata": {
    "cell_style": "split",
    "slideshow": {
     "slide_type": "fragment"
    }
   },
   "source": [
    "Group | Frequency\n",
    "-----:|----------\n",
    "a     | 2\n",
    "b     | 4\n",
    "c     | 1\n",
    "\n",
    "That is:\n",
    "\n",
    "```{python}\n",
    "{'a': 2, 'b': 4, 'c':1}\n",
    "```"
   ]
  },
  {
   "cell_type": "markdown",
   "metadata": {
    "slideshow": {
     "slide_type": "slide"
    }
   },
   "source": [
    "# Visualizing monovariate distributions"
   ]
  },
  {
   "cell_type": "markdown",
   "metadata": {
    "cell_style": "split",
    "slideshow": {
     "slide_type": "fragment"
    }
   },
   "source": [
    "* candidate visual forms:\n",
    "    - histograms\n",
    "    - boxplots \n",
    "    - log-log plots\n",
    "\n",
    "* premises:\n",
    "    - data on a continuous variable (e.g., product prices) are available\n",
    "\n",
    "* common mistakes:\n",
    "    - histograms based on too many or too few bins \n",
    "    - outliers/long tails making the overall distribution gloomy"
   ]
  },
  {
   "cell_type": "markdown",
   "metadata": {
    "ExecuteTime": {
     "end_time": "2020-10-09T08:44:20.056493Z",
     "start_time": "2020-10-09T08:44:20.045074Z"
    },
    "cell_style": "split",
    "slideshow": {
     "slide_type": "fragment"
    }
   },
   "source": [
    "Case | Variable\n",
    "-----|---------\n",
    "1    | 0.59966121\n",
    "2    | -0.3114587\n",
    "3    | 1.22467437\n",
    "\n",
    "That is:\n",
    "\n",
    "```{python}\n",
    "[0.59966121, -0.3114587, 1.22467437]\n",
    "```"
   ]
  },
  {
   "cell_type": "markdown",
   "metadata": {
    "slideshow": {
     "slide_type": "slide"
    }
   },
   "source": [
    "# Visualizing bivariate distributions"
   ]
  },
  {
   "cell_type": "markdown",
   "metadata": {
    "cell_style": "split",
    "slideshow": {
     "slide_type": "fragment"
    }
   },
   "source": [
    "* candidate visual forms:\n",
    "    - scatter diagram\n",
    "    - 2d histogram\n",
    "\n",
    "* premises:\n",
    "    - data on two variables (e.g., product prices) are available\n",
    "\n",
    "* common mistakes:\n",
    "    - overplotting―there are too many datapoints; the visualization is too dense\n",
    "    - imbalance between the fine structure of the data and the larger pattern"
   ]
  },
  {
   "cell_type": "markdown",
   "metadata": {
    "cell_style": "split",
    "slideshow": {
     "slide_type": "fragment"
    }
   },
   "source": [
    "Case | Variable X  | Variable Y\n",
    "-----|-------------|-----------\n",
    "1    | 0.59966121  | 23\n",
    "2    | -0.3114587  | 56\n",
    "3    | 1.22467437  | 12\n",
    "\n",
    "That is:\n",
    "\n",
    "```{python}\n",
    "[[0.59966121, -0.3114587, 1.22467437],\n",
    " [23, 56, 12]]\n",
    "```"
   ]
  },
  {
   "cell_type": "markdown",
   "metadata": {
    "slideshow": {
     "slide_type": "slide"
    }
   },
   "source": [
    "# Visualizing n-dimensional distributions"
   ]
  },
  {
   "cell_type": "markdown",
   "metadata": {
    "cell_style": "split",
    "slideshow": {
     "slide_type": "fragment"
    }
   },
   "source": [
    "* candidate visual forms:\n",
    "    - contour plots\n",
    "    - surface plots\n",
    "    - spider charts\n",
    "\n",
    "* premises:\n",
    "    - data on 3 + variables (e.g., product prices) are available\n",
    "\n",
    "* common mistakes:\n",
    "    - overplotting―there are too many datapoints; the visualization is too dense\n",
    "    - imbalance between the fine structure of the data and the larger pattern\n",
    "    - misfit between the visual form and the audience"
   ]
  },
  {
   "cell_type": "markdown",
   "metadata": {
    "cell_style": "split",
    "slideshow": {
     "slide_type": "fragment"
    }
   },
   "source": [
    "Case | Variable X  | Variable Y | Variable Z\n",
    "-----|-------------|------------|------------\n",
    "1    | 0.59966121  | 23 | 1000\n",
    "2    | -0.3114587  | 56 |1200\n",
    "3    | 1.22467437  | 12 | 1300\n",
    "\n",
    "That is:\n",
    "\n",
    "```{python}\n",
    "[[0.59966121, -0.3114587, 1.22467437],\n",
    " [23, 56, 12]\n",
    " [1000, 1200, 1300]]\n",
    "```"
   ]
  }
 ],
 "metadata": {
  "celltoolbar": "Slideshow",
  "gist": {
   "data": {
    "description": "data-viz-smm635/week3/slideshow_1.ipynb",
    "public": false
   },
   "id": ""
  },
  "hide_input": false,
  "kernelspec": {
   "display_name": "Python 3 (ipykernel)",
   "language": "python",
   "name": "python3"
  },
  "language_info": {
   "codemirror_mode": {
    "name": "ipython",
    "version": 3
   },
   "file_extension": ".py",
   "mimetype": "text/x-python",
   "name": "python",
   "nbconvert_exporter": "python",
   "pygments_lexer": "ipython3",
   "version": "3.9.7"
  },
  "latex_envs": {
   "LaTeX_envs_menu_present": true,
   "autoclose": false,
   "autocomplete": true,
   "bibliofile": "biblio.bib",
   "cite_by": "apalike",
   "current_citInitial": 1,
   "eqLabelWithNumbers": true,
   "eqNumInitial": 1,
   "hotkeys": {
    "equation": "Ctrl-E",
    "itemize": "Ctrl-I"
   },
   "labels_anchors": false,
   "latex_user_defs": false,
   "report_style_numbering": false,
   "user_envs_cfg": false
  },
  "nbTranslate": {
   "displayLangs": [
    "*"
   ],
   "hotkey": "alt-t",
   "langInMainMenu": true,
   "sourceLang": "en",
   "targetLang": "fr",
   "useGoogleTranslate": true
  },
  "rise": {
   "enable_chalkboard": true
  },
  "toc": {
   "base_numbering": 1,
   "nav_menu": {},
   "number_sections": false,
   "sideBar": true,
   "skip_h1_title": false,
   "title_cell": "Table of Contents",
   "title_sidebar": "Contents",
   "toc_cell": false,
   "toc_position": {},
   "toc_section_display": true,
   "toc_window_display": false
  },
  "varInspector": {
   "cols": {
    "lenName": 16,
    "lenType": 16,
    "lenVar": 40
   },
   "kernels_config": {
    "python": {
     "delete_cmd_postfix": "",
     "delete_cmd_prefix": "del ",
     "library": "var_list.py",
     "varRefreshCmd": "print(var_dic_list())"
    },
    "r": {
     "delete_cmd_postfix": ") ",
     "delete_cmd_prefix": "rm(",
     "library": "var_list.r",
     "varRefreshCmd": "cat(var_dic_list()) "
    }
   },
   "types_to_exclude": [
    "module",
    "function",
    "builtin_function_or_method",
    "instance",
    "_Feature"
   ],
   "window_display": false
  }
 },
 "nbformat": 4,
 "nbformat_minor": 2
}
